{
 "cells": [
  {
   "cell_type": "code",
   "execution_count": 1,
   "id": "1a750a41",
   "metadata": {},
   "outputs": [],
   "source": [
    "import numpy as np\n",
    "import pandas as pd\n",
    "import matplotlib.pyplot as plt\n",
    "import keras\n",
    "from keras.layers import Dense, MaxPool2D, Dropout, Flatten, Conv2D\n",
    "from keras.models import Sequential\n",
    "from keras.preprocessing import image \n",
    "import tensorflow as tf\n",
    "from tensorflow import keras\n",
    "from tensorflow.keras.preprocessing.image import ImageDataGenerator\n",
    "import glob\n",
    "from glob import glob\n",
    "from sklearn.model_selection import train_test_split"
   ]
  },
  {
   "cell_type": "code",
   "execution_count": 2,
   "id": "313ef3c0",
   "metadata": {},
   "outputs": [],
   "source": [
    "dataset_path = 'D:\\\\dataset\\\\brain'"
   ]
  },
  {
   "cell_type": "markdown",
   "id": "a104dde2",
   "metadata": {},
   "source": [
    "# Data generators\n"
   ]
  },
  {
   "cell_type": "code",
   "execution_count": 3,
   "id": "8177d68c",
   "metadata": {},
   "outputs": [],
   "source": [
    "\n",
    "train_datagen = ImageDataGenerator(rescale=1./255, horizontal_flip=True, zoom_range=0.2, shear_range=0.2,validation_split=0.2)\n"
   ]
  },
  {
   "cell_type": "markdown",
   "id": "efc761f3",
   "metadata": {},
   "source": [
    "# Load Dataset"
   ]
  },
  {
   "cell_type": "code",
   "execution_count": 9,
   "id": "9142402f",
   "metadata": {},
   "outputs": [
    {
     "name": "stdout",
     "output_type": "stream",
     "text": [
      "Found 203 images belonging to 2 classes.\n",
      "Found 50 images belonging to 2 classes.\n",
      "Found 50 images belonging to 2 classes.\n"
     ]
    }
   ],
   "source": [
    "train_data = train_datagen.flow_from_directory(\n",
    "        dataset_path,\n",
    "        target_size=(256,256),\n",
    "        batch_size=10,\n",
    "        class_mode='binary',subset='training')\n",
    "\n",
    "val_data = train_datagen.flow_from_directory(\n",
    "        dataset_path,\n",
    "        target_size=(256,256),\n",
    "        batch_size=10,\n",
    "        class_mode='binary',subset='validation')\n",
    "\n",
    "test_data = train_datagen.flow_from_directory(\n",
    "        dataset_path,\n",
    "        target_size=(256,256),\n",
    "        batch_size=10,\n",
    "        class_mode='binary',\n",
    "        shuffle=False,\n",
    "        subset='validation')\n",
    "\n"
   ]
  },
  {
   "cell_type": "markdown",
   "id": "82d7d96b",
   "metadata": {},
   "source": [
    "# CNN model"
   ]
  },
  {
   "cell_type": "code",
   "execution_count": 10,
   "id": "5f3cbb40",
   "metadata": {},
   "outputs": [
    {
     "name": "stdout",
     "output_type": "stream",
     "text": [
      "Model: \"sequential_1\"\n",
      "_________________________________________________________________\n",
      " Layer (type)                Output Shape              Param #   \n",
      "=================================================================\n",
      " conv2d_4 (Conv2D)           (None, 254, 254, 16)      448       \n",
      "                                                                 \n",
      " conv2d_5 (Conv2D)           (None, 252, 252, 36)      5220      \n",
      "                                                                 \n",
      " max_pooling2d_3 (MaxPooling  (None, 126, 126, 36)     0         \n",
      " 2D)                                                             \n",
      "                                                                 \n",
      " conv2d_6 (Conv2D)           (None, 124, 124, 64)      20800     \n",
      "                                                                 \n",
      " max_pooling2d_4 (MaxPooling  (None, 62, 62, 64)       0         \n",
      " 2D)                                                             \n",
      "                                                                 \n",
      " conv2d_7 (Conv2D)           (None, 60, 60, 128)       73856     \n",
      "                                                                 \n",
      " max_pooling2d_5 (MaxPooling  (None, 30, 30, 128)      0         \n",
      " 2D)                                                             \n",
      "                                                                 \n",
      " dropout_2 (Dropout)         (None, 30, 30, 128)       0         \n",
      "                                                                 \n",
      " flatten_1 (Flatten)         (None, 115200)            0         \n",
      "                                                                 \n",
      " dense_2 (Dense)             (None, 64)                7372864   \n",
      "                                                                 \n",
      " dropout_3 (Dropout)         (None, 64)                0         \n",
      "                                                                 \n",
      " dense_3 (Dense)             (None, 1)                 65        \n",
      "                                                                 \n",
      "=================================================================\n",
      "Total params: 7,473,253\n",
      "Trainable params: 7,473,253\n",
      "Non-trainable params: 0\n",
      "_________________________________________________________________\n"
     ]
    }
   ],
   "source": [
    "model = Sequential()\n",
    "\n",
    "model.add(Conv2D (filters= 16 , kernel_size= (3,3), activation= 'relu', input_shape=(256,256,3)))\n",
    "\n",
    "model.add(Conv2D(filters= 36, kernel_size= (3,3), activation= 'relu' ))\n",
    "model.add(MaxPool2D(pool_size=(2,2)))\n",
    "\n",
    "model.add(Conv2D(filters= 64, kernel_size= (3,3), activation= 'relu')) \n",
    "model.add(MaxPool2D(pool_size=(2,2)))\n",
    "\n",
    "model.add(Conv2D(filters= 128, kernel_size= (3,3), activation= 'relu' )) \n",
    "model.add(MaxPool2D(pool_size=(2,2)))\n",
    "\n",
    "model.add(Dropout (rate= 0.25))\n",
    "\n",
    "model.add(Flatten())\n",
    "model.add(Dense(units=64, activation= 'relu'))\n",
    "model.add(Dropout(rate= 0.25 ))\n",
    "\n",
    "model.add(Dense (units= 1, activation= 'sigmoid'))\n",
    "\n",
    "model.summary()"
   ]
  },
  {
   "cell_type": "code",
   "execution_count": 11,
   "id": "eff3cff5",
   "metadata": {},
   "outputs": [],
   "source": [
    "model.compile(optimizer='adam',loss=keras.losses.binary_crossentropy, metrics=[\"accuracy\"])"
   ]
  },
  {
   "cell_type": "markdown",
   "id": "9cf13e8e",
   "metadata": {},
   "source": [
    "# Early stopping & Model check point\n"
   ]
  },
  {
   "cell_type": "code",
   "execution_count": 12,
   "id": "d7a70908",
   "metadata": {},
   "outputs": [],
   "source": [
    "from keras.callbacks import ModelCheckpoint, EarlyStopping\n",
    "\n",
    "es= EarlyStopping(monitor=\"val_accuracy\",min_delta=0.01,patience=3,verbose=1,mode=\"auto\")\n",
    "\n",
    "mc= ModelCheckpoint(monitor=\"val_accuracy\",filepath=\"D:\\\\bestmodel.h5\",verbose=1,save_best_only=True,mode=\"auto\")\n",
    "\n",
    "call=[es,mc]"
   ]
  },
  {
   "cell_type": "markdown",
   "id": "67f4830e",
   "metadata": {},
   "source": [
    "# Model Training"
   ]
  },
  {
   "cell_type": "code",
   "execution_count": 13,
   "id": "f9deb5ea",
   "metadata": {
    "scrolled": false
   },
   "outputs": [
    {
     "name": "stderr",
     "output_type": "stream",
     "text": [
      "C:\\Users\\Sid\\AppData\\Local\\Temp\\ipykernel_988\\4192182303.py:1: UserWarning: `Model.fit_generator` is deprecated and will be removed in a future version. Please use `Model.fit`, which supports generators.\n",
      "  hs=model.fit_generator(generator=train_data, steps_per_epoch=5,epochs=10,\n"
     ]
    },
    {
     "name": "stdout",
     "output_type": "stream",
     "text": [
      "Epoch 1/10\n",
      "5/5 [==============================] - ETA: 0s - loss: 0.5754 - accuracy: 0.7209\n",
      "Epoch 1: val_accuracy improved from -inf to 0.46000, saving model to D:\\bestmodel.h5\n",
      "5/5 [==============================] - 18s 3s/step - loss: 0.5754 - accuracy: 0.7209 - val_loss: 1.6808 - val_accuracy: 0.4600\n",
      "Epoch 2/10\n",
      "5/5 [==============================] - ETA: 0s - loss: 0.9130 - accuracy: 0.6600\n",
      "Epoch 2: val_accuracy improved from 0.46000 to 0.62000, saving model to D:\\bestmodel.h5\n",
      "5/5 [==============================] - 18s 4s/step - loss: 0.9130 - accuracy: 0.6600 - val_loss: 0.7417 - val_accuracy: 0.6200\n",
      "Epoch 3/10\n",
      "5/5 [==============================] - ETA: 0s - loss: 0.6563 - accuracy: 0.6000\n",
      "Epoch 3: val_accuracy improved from 0.62000 to 0.70000, saving model to D:\\bestmodel.h5\n",
      "5/5 [==============================] - 16s 3s/step - loss: 0.6563 - accuracy: 0.6000 - val_loss: 0.6233 - val_accuracy: 0.7000\n",
      "Epoch 4/10\n",
      "5/5 [==============================] - ETA: 0s - loss: 0.5945 - accuracy: 0.7000\n",
      "Epoch 4: val_accuracy did not improve from 0.70000\n",
      "5/5 [==============================] - 15s 3s/step - loss: 0.5945 - accuracy: 0.7000 - val_loss: 0.6067 - val_accuracy: 0.7000\n",
      "Epoch 5/10\n",
      "5/5 [==============================] - ETA: 0s - loss: 0.6187 - accuracy: 0.6400\n",
      "Epoch 5: val_accuracy did not improve from 0.70000\n",
      "5/5 [==============================] - 15s 3s/step - loss: 0.6187 - accuracy: 0.6400 - val_loss: 0.6505 - val_accuracy: 0.7000\n",
      "Epoch 6/10\n",
      "5/5 [==============================] - ETA: 0s - loss: 0.5883 - accuracy: 0.7000\n",
      "Epoch 6: val_accuracy improved from 0.70000 to 0.78000, saving model to D:\\bestmodel.h5\n",
      "5/5 [==============================] - 17s 4s/step - loss: 0.5883 - accuracy: 0.7000 - val_loss: 0.5450 - val_accuracy: 0.7800\n",
      "Epoch 7/10\n",
      "5/5 [==============================] - ETA: 0s - loss: 0.4801 - accuracy: 0.8200\n",
      "Epoch 7: val_accuracy did not improve from 0.78000\n",
      "5/5 [==============================] - 16s 3s/step - loss: 0.4801 - accuracy: 0.8200 - val_loss: 0.6656 - val_accuracy: 0.6800\n",
      "Epoch 8/10\n",
      "5/5 [==============================] - ETA: 0s - loss: 0.4701 - accuracy: 0.7800\n",
      "Epoch 8: val_accuracy did not improve from 0.78000\n",
      "5/5 [==============================] - 16s 3s/step - loss: 0.4701 - accuracy: 0.7800 - val_loss: 0.8967 - val_accuracy: 0.6200\n",
      "Epoch 9/10\n",
      "5/5 [==============================] - ETA: 0s - loss: 0.6098 - accuracy: 0.7200\n",
      "Epoch 9: val_accuracy did not improve from 0.78000\n",
      "5/5 [==============================] - 16s 3s/step - loss: 0.6098 - accuracy: 0.7200 - val_loss: 0.6032 - val_accuracy: 0.7200\n",
      "Epoch 9: early stopping\n"
     ]
    }
   ],
   "source": [
    "hs=model.fit_generator(generator=train_data, steps_per_epoch=5,epochs=10, \n",
    "                       verbose=1, validation_data=val_data, validation_steps=5,\n",
    "                       callbacks=call)"
   ]
  },
  {
   "cell_type": "code",
   "execution_count": 14,
   "id": "7bb220db",
   "metadata": {},
   "outputs": [
    {
     "data": {
      "text/plain": [
       "dict_keys(['loss', 'accuracy', 'val_loss', 'val_accuracy'])"
      ]
     },
     "execution_count": 14,
     "metadata": {},
     "output_type": "execute_result"
    }
   ],
   "source": [
    "h=hs.history\n",
    "h.keys()"
   ]
  },
  {
   "cell_type": "markdown",
   "id": "7ffaca06",
   "metadata": {},
   "source": [
    "# Model Accuracy\n"
   ]
  },
  {
   "cell_type": "code",
   "execution_count": 15,
   "id": "1af04af8",
   "metadata": {},
   "outputs": [],
   "source": [
    "from keras.models import load_model, Model\n",
    "\n",
    "model=load_model(\"D:\\\\bestmodel.h5\")"
   ]
  },
  {
   "cell_type": "code",
   "execution_count": 17,
   "id": "c6e13294",
   "metadata": {},
   "outputs": [
    {
     "name": "stderr",
     "output_type": "stream",
     "text": [
      "C:\\Users\\Sid\\AppData\\Local\\Temp\\ipykernel_988\\342094648.py:1: UserWarning: `Model.evaluate_generator` is deprecated and will be removed in a future version. Please use `Model.evaluate`, which supports generators.\n",
      "  acc= model.evaluate_generator(test_data)[1]\n"
     ]
    },
    {
     "name": "stdout",
     "output_type": "stream",
     "text": [
      "accurary of model 0.7599999904632568\n"
     ]
    }
   ],
   "source": [
    "acc= model.evaluate_generator(test_data)[1]\n",
    "print(f\"accurary of model {acc}\")"
   ]
  },
  {
   "cell_type": "code",
   "execution_count": 18,
   "id": "55775303",
   "metadata": {},
   "outputs": [],
   "source": [
    "from keras.applications.mobilenet import MobileNet"
   ]
  },
  {
   "cell_type": "code",
   "execution_count": 26,
   "id": "7e4d05dd",
   "metadata": {},
   "outputs": [
    {
     "name": "stdout",
     "output_type": "stream",
     "text": [
      "WARNING:tensorflow:`input_shape` is undefined or non-square, or `rows` is not in [128, 160, 192, 224]. Weights for input shape (224, 224) will be loaded as the default.\n"
     ]
    }
   ],
   "source": [
    "base_model= MobileNet(input_shape=(256,256,3),include_top=False)"
   ]
  },
  {
   "cell_type": "code",
   "execution_count": 27,
   "id": "992ccae9",
   "metadata": {},
   "outputs": [],
   "source": [
    "for layer in base_model.layers:\n",
    "    layer_trainable = False"
   ]
  },
  {
   "cell_type": "code",
   "execution_count": 28,
   "id": "adf144e5",
   "metadata": {},
   "outputs": [],
   "source": [
    "X= Flatten()(base_model.output)\n",
    "X=Dense(units=1, activation='sigmoid')(X)\n",
    "\n",
    "model= Model(base_model.input,X)"
   ]
  },
  {
   "cell_type": "code",
   "execution_count": 29,
   "id": "0978f58f",
   "metadata": {},
   "outputs": [
    {
     "name": "stdout",
     "output_type": "stream",
     "text": [
      "Model: \"model_1\"\n",
      "_________________________________________________________________\n",
      " Layer (type)                Output Shape              Param #   \n",
      "=================================================================\n",
      " input_2 (InputLayer)        [(None, 256, 256, 3)]     0         \n",
      "                                                                 \n",
      " conv1 (Conv2D)              (None, 128, 128, 32)      864       \n",
      "                                                                 \n",
      " conv1_bn (BatchNormalizatio  (None, 128, 128, 32)     128       \n",
      " n)                                                              \n",
      "                                                                 \n",
      " conv1_relu (ReLU)           (None, 128, 128, 32)      0         \n",
      "                                                                 \n",
      " conv_dw_1 (DepthwiseConv2D)  (None, 128, 128, 32)     288       \n",
      "                                                                 \n",
      " conv_dw_1_bn (BatchNormaliz  (None, 128, 128, 32)     128       \n",
      " ation)                                                          \n",
      "                                                                 \n",
      " conv_dw_1_relu (ReLU)       (None, 128, 128, 32)      0         \n",
      "                                                                 \n",
      " conv_pw_1 (Conv2D)          (None, 128, 128, 64)      2048      \n",
      "                                                                 \n",
      " conv_pw_1_bn (BatchNormaliz  (None, 128, 128, 64)     256       \n",
      " ation)                                                          \n",
      "                                                                 \n",
      " conv_pw_1_relu (ReLU)       (None, 128, 128, 64)      0         \n",
      "                                                                 \n",
      " conv_pad_2 (ZeroPadding2D)  (None, 129, 129, 64)      0         \n",
      "                                                                 \n",
      " conv_dw_2 (DepthwiseConv2D)  (None, 64, 64, 64)       576       \n",
      "                                                                 \n",
      " conv_dw_2_bn (BatchNormaliz  (None, 64, 64, 64)       256       \n",
      " ation)                                                          \n",
      "                                                                 \n",
      " conv_dw_2_relu (ReLU)       (None, 64, 64, 64)        0         \n",
      "                                                                 \n",
      " conv_pw_2 (Conv2D)          (None, 64, 64, 128)       8192      \n",
      "                                                                 \n",
      " conv_pw_2_bn (BatchNormaliz  (None, 64, 64, 128)      512       \n",
      " ation)                                                          \n",
      "                                                                 \n",
      " conv_pw_2_relu (ReLU)       (None, 64, 64, 128)       0         \n",
      "                                                                 \n",
      " conv_dw_3 (DepthwiseConv2D)  (None, 64, 64, 128)      1152      \n",
      "                                                                 \n",
      " conv_dw_3_bn (BatchNormaliz  (None, 64, 64, 128)      512       \n",
      " ation)                                                          \n",
      "                                                                 \n",
      " conv_dw_3_relu (ReLU)       (None, 64, 64, 128)       0         \n",
      "                                                                 \n",
      " conv_pw_3 (Conv2D)          (None, 64, 64, 128)       16384     \n",
      "                                                                 \n",
      " conv_pw_3_bn (BatchNormaliz  (None, 64, 64, 128)      512       \n",
      " ation)                                                          \n",
      "                                                                 \n",
      " conv_pw_3_relu (ReLU)       (None, 64, 64, 128)       0         \n",
      "                                                                 \n",
      " conv_pad_4 (ZeroPadding2D)  (None, 65, 65, 128)       0         \n",
      "                                                                 \n",
      " conv_dw_4 (DepthwiseConv2D)  (None, 32, 32, 128)      1152      \n",
      "                                                                 \n",
      " conv_dw_4_bn (BatchNormaliz  (None, 32, 32, 128)      512       \n",
      " ation)                                                          \n",
      "                                                                 \n",
      " conv_dw_4_relu (ReLU)       (None, 32, 32, 128)       0         \n",
      "                                                                 \n",
      " conv_pw_4 (Conv2D)          (None, 32, 32, 256)       32768     \n",
      "                                                                 \n",
      " conv_pw_4_bn (BatchNormaliz  (None, 32, 32, 256)      1024      \n",
      " ation)                                                          \n",
      "                                                                 \n",
      " conv_pw_4_relu (ReLU)       (None, 32, 32, 256)       0         \n",
      "                                                                 \n",
      " conv_dw_5 (DepthwiseConv2D)  (None, 32, 32, 256)      2304      \n",
      "                                                                 \n",
      " conv_dw_5_bn (BatchNormaliz  (None, 32, 32, 256)      1024      \n",
      " ation)                                                          \n",
      "                                                                 \n",
      " conv_dw_5_relu (ReLU)       (None, 32, 32, 256)       0         \n",
      "                                                                 \n",
      " conv_pw_5 (Conv2D)          (None, 32, 32, 256)       65536     \n",
      "                                                                 \n",
      " conv_pw_5_bn (BatchNormaliz  (None, 32, 32, 256)      1024      \n",
      " ation)                                                          \n",
      "                                                                 \n",
      " conv_pw_5_relu (ReLU)       (None, 32, 32, 256)       0         \n",
      "                                                                 \n",
      " conv_pad_6 (ZeroPadding2D)  (None, 33, 33, 256)       0         \n",
      "                                                                 \n",
      " conv_dw_6 (DepthwiseConv2D)  (None, 16, 16, 256)      2304      \n",
      "                                                                 \n",
      " conv_dw_6_bn (BatchNormaliz  (None, 16, 16, 256)      1024      \n",
      " ation)                                                          \n",
      "                                                                 \n",
      " conv_dw_6_relu (ReLU)       (None, 16, 16, 256)       0         \n",
      "                                                                 \n",
      " conv_pw_6 (Conv2D)          (None, 16, 16, 512)       131072    \n",
      "                                                                 \n",
      " conv_pw_6_bn (BatchNormaliz  (None, 16, 16, 512)      2048      \n",
      " ation)                                                          \n",
      "                                                                 \n",
      " conv_pw_6_relu (ReLU)       (None, 16, 16, 512)       0         \n",
      "                                                                 \n",
      " conv_dw_7 (DepthwiseConv2D)  (None, 16, 16, 512)      4608      \n",
      "                                                                 \n",
      " conv_dw_7_bn (BatchNormaliz  (None, 16, 16, 512)      2048      \n",
      " ation)                                                          \n",
      "                                                                 \n",
      " conv_dw_7_relu (ReLU)       (None, 16, 16, 512)       0         \n",
      "                                                                 \n",
      " conv_pw_7 (Conv2D)          (None, 16, 16, 512)       262144    \n",
      "                                                                 \n",
      " conv_pw_7_bn (BatchNormaliz  (None, 16, 16, 512)      2048      \n",
      " ation)                                                          \n",
      "                                                                 \n",
      " conv_pw_7_relu (ReLU)       (None, 16, 16, 512)       0         \n",
      "                                                                 \n",
      " conv_dw_8 (DepthwiseConv2D)  (None, 16, 16, 512)      4608      \n",
      "                                                                 \n",
      " conv_dw_8_bn (BatchNormaliz  (None, 16, 16, 512)      2048      \n",
      " ation)                                                          \n",
      "                                                                 \n",
      " conv_dw_8_relu (ReLU)       (None, 16, 16, 512)       0         \n",
      "                                                                 \n",
      " conv_pw_8 (Conv2D)          (None, 16, 16, 512)       262144    \n",
      "                                                                 \n",
      " conv_pw_8_bn (BatchNormaliz  (None, 16, 16, 512)      2048      \n",
      " ation)                                                          \n",
      "                                                                 \n",
      " conv_pw_8_relu (ReLU)       (None, 16, 16, 512)       0         \n",
      "                                                                 \n",
      " conv_dw_9 (DepthwiseConv2D)  (None, 16, 16, 512)      4608      \n",
      "                                                                 \n",
      " conv_dw_9_bn (BatchNormaliz  (None, 16, 16, 512)      2048      \n",
      " ation)                                                          \n",
      "                                                                 \n",
      " conv_dw_9_relu (ReLU)       (None, 16, 16, 512)       0         \n",
      "                                                                 \n",
      " conv_pw_9 (Conv2D)          (None, 16, 16, 512)       262144    \n",
      "                                                                 \n",
      " conv_pw_9_bn (BatchNormaliz  (None, 16, 16, 512)      2048      \n",
      " ation)                                                          \n",
      "                                                                 \n",
      " conv_pw_9_relu (ReLU)       (None, 16, 16, 512)       0         \n",
      "                                                                 \n",
      " conv_dw_10 (DepthwiseConv2D  (None, 16, 16, 512)      4608      \n",
      " )                                                               \n",
      "                                                                 \n",
      " conv_dw_10_bn (BatchNormali  (None, 16, 16, 512)      2048      \n",
      " zation)                                                         \n",
      "                                                                 \n",
      " conv_dw_10_relu (ReLU)      (None, 16, 16, 512)       0         \n",
      "                                                                 \n",
      " conv_pw_10 (Conv2D)         (None, 16, 16, 512)       262144    \n",
      "                                                                 \n",
      " conv_pw_10_bn (BatchNormali  (None, 16, 16, 512)      2048      \n",
      " zation)                                                         \n",
      "                                                                 \n",
      " conv_pw_10_relu (ReLU)      (None, 16, 16, 512)       0         \n",
      "                                                                 \n",
      " conv_dw_11 (DepthwiseConv2D  (None, 16, 16, 512)      4608      \n",
      " )                                                               \n",
      "                                                                 \n",
      " conv_dw_11_bn (BatchNormali  (None, 16, 16, 512)      2048      \n",
      " zation)                                                         \n",
      "                                                                 \n",
      " conv_dw_11_relu (ReLU)      (None, 16, 16, 512)       0         \n",
      "                                                                 \n",
      " conv_pw_11 (Conv2D)         (None, 16, 16, 512)       262144    \n",
      "                                                                 \n",
      " conv_pw_11_bn (BatchNormali  (None, 16, 16, 512)      2048      \n",
      " zation)                                                         \n",
      "                                                                 \n",
      " conv_pw_11_relu (ReLU)      (None, 16, 16, 512)       0         \n",
      "                                                                 \n",
      " conv_pad_12 (ZeroPadding2D)  (None, 17, 17, 512)      0         \n",
      "                                                                 \n",
      " conv_dw_12 (DepthwiseConv2D  (None, 8, 8, 512)        4608      \n",
      " )                                                               \n",
      "                                                                 \n",
      " conv_dw_12_bn (BatchNormali  (None, 8, 8, 512)        2048      \n",
      " zation)                                                         \n",
      "                                                                 \n",
      " conv_dw_12_relu (ReLU)      (None, 8, 8, 512)         0         \n",
      "                                                                 \n",
      " conv_pw_12 (Conv2D)         (None, 8, 8, 1024)        524288    \n",
      "                                                                 \n",
      " conv_pw_12_bn (BatchNormali  (None, 8, 8, 1024)       4096      \n",
      " zation)                                                         \n",
      "                                                                 \n",
      " conv_pw_12_relu (ReLU)      (None, 8, 8, 1024)        0         \n",
      "                                                                 \n",
      " conv_dw_13 (DepthwiseConv2D  (None, 8, 8, 1024)       9216      \n",
      " )                                                               \n",
      "                                                                 \n",
      " conv_dw_13_bn (BatchNormali  (None, 8, 8, 1024)       4096      \n",
      " zation)                                                         \n",
      "                                                                 \n",
      " conv_dw_13_relu (ReLU)      (None, 8, 8, 1024)        0         \n",
      "                                                                 \n",
      " conv_pw_13 (Conv2D)         (None, 8, 8, 1024)        1048576   \n",
      "                                                                 \n",
      " conv_pw_13_bn (BatchNormali  (None, 8, 8, 1024)       4096      \n",
      " zation)                                                         \n",
      "                                                                 \n",
      " conv_pw_13_relu (ReLU)      (None, 8, 8, 1024)        0         \n",
      "                                                                 \n",
      " flatten_3 (Flatten)         (None, 65536)             0         \n",
      "                                                                 \n",
      " dense_5 (Dense)             (None, 1)                 65537     \n",
      "                                                                 \n",
      "=================================================================\n",
      "Total params: 3,294,401\n",
      "Trainable params: 3,272,513\n",
      "Non-trainable params: 21,888\n",
      "_________________________________________________________________\n"
     ]
    }
   ],
   "source": [
    "model.summary()"
   ]
  },
  {
   "cell_type": "code",
   "execution_count": 30,
   "id": "7d9ac255",
   "metadata": {},
   "outputs": [],
   "source": [
    "model.compile(optimizer='rmsprop',loss=keras.losses.binary_crossentropy, metrics=[\"accuracy\"])"
   ]
  },
  {
   "cell_type": "code",
   "execution_count": 31,
   "id": "870db6a2",
   "metadata": {},
   "outputs": [],
   "source": [
    "from keras.callbacks import ModelCheckpoint, EarlyStopping\n",
    "\n",
    "es= EarlyStopping(monitor='val_accuracy',min_delta=0.01,patience=3,verbose=1)\n",
    "\n",
    "mc= ModelCheckpoint(monitor='val_accuracy',filepath=\"bestmodel.h5\",verbose=1,save_best_only=True)\n",
    "\n",
    "cb=[es,mc]"
   ]
  },
  {
   "cell_type": "code",
   "execution_count": 32,
   "id": "683e1d54",
   "metadata": {
    "scrolled": false
   },
   "outputs": [
    {
     "name": "stderr",
     "output_type": "stream",
     "text": [
      "C:\\Users\\Sid\\AppData\\Local\\Temp\\ipykernel_988\\2245452028.py:1: UserWarning: `Model.fit_generator` is deprecated and will be removed in a future version. Please use `Model.fit`, which supports generators.\n",
      "  hist=model.fit_generator(generator=train_data, steps_per_epoch=5,epochs=10,\n"
     ]
    },
    {
     "name": "stdout",
     "output_type": "stream",
     "text": [
      "Epoch 1/10\n",
      "5/5 [==============================] - ETA: 0s - loss: 22.9098 - accuracy: 0.5000\n",
      "Epoch 1: val_accuracy improved from -inf to 0.62000, saving model to bestmodel.h5\n",
      "5/5 [==============================] - 36s 5s/step - loss: 22.9098 - accuracy: 0.5000 - val_loss: 9.7805 - val_accuracy: 0.6200\n",
      "Epoch 2/10\n",
      "5/5 [==============================] - ETA: 0s - loss: 13.5685 - accuracy: 0.5800\n",
      "Epoch 2: val_accuracy did not improve from 0.62000\n",
      "5/5 [==============================] - 20s 4s/step - loss: 13.5685 - accuracy: 0.5800 - val_loss: 15.5841 - val_accuracy: 0.6200\n",
      "Epoch 3/10\n",
      "5/5 [==============================] - ETA: 0s - loss: 6.0309 - accuracy: 0.6977\n",
      "Epoch 3: val_accuracy did not improve from 0.62000\n",
      "5/5 [==============================] - 19s 4s/step - loss: 6.0309 - accuracy: 0.6977 - val_loss: 15.8085 - val_accuracy: 0.3800\n",
      "Epoch 4/10\n",
      "5/5 [==============================] - ETA: 0s - loss: 5.7481 - accuracy: 0.7600\n",
      "Epoch 4: val_accuracy improved from 0.62000 to 0.74000, saving model to bestmodel.h5\n",
      "5/5 [==============================] - 22s 5s/step - loss: 5.7481 - accuracy: 0.7600 - val_loss: 3.8899 - val_accuracy: 0.7400\n",
      "Epoch 5/10\n",
      "5/5 [==============================] - ETA: 0s - loss: 1.5110 - accuracy: 0.9200\n",
      "Epoch 5: val_accuracy did not improve from 0.74000\n",
      "5/5 [==============================] - 20s 4s/step - loss: 1.5110 - accuracy: 0.9200 - val_loss: 3.2981 - val_accuracy: 0.6800\n",
      "Epoch 6/10\n",
      "5/5 [==============================] - ETA: 0s - loss: 2.8376 - accuracy: 0.8400\n",
      "Epoch 6: val_accuracy did not improve from 0.74000\n",
      "5/5 [==============================] - 20s 4s/step - loss: 2.8376 - accuracy: 0.8400 - val_loss: 14.2729 - val_accuracy: 0.6200\n",
      "Epoch 7/10\n",
      "5/5 [==============================] - ETA: 0s - loss: 1.7630 - accuracy: 0.8400\n",
      "Epoch 7: val_accuracy did not improve from 0.74000\n",
      "5/5 [==============================] - 21s 4s/step - loss: 1.7630 - accuracy: 0.8400 - val_loss: 4.5312 - val_accuracy: 0.7000\n",
      "Epoch 7: early stopping\n"
     ]
    }
   ],
   "source": [
    "hist=model.fit_generator(generator=train_data, steps_per_epoch=5,epochs=10, \n",
    "                       validation_data=val_data, validation_steps=5,\n",
    "                       callbacks=cb)"
   ]
  },
  {
   "cell_type": "code",
   "execution_count": 33,
   "id": "421cef6d",
   "metadata": {},
   "outputs": [],
   "source": [
    "model=load_model(\"D:\\\\bestmodel.h5\")"
   ]
  },
  {
   "cell_type": "code",
   "execution_count": 34,
   "id": "c15a54b3",
   "metadata": {},
   "outputs": [
    {
     "name": "stderr",
     "output_type": "stream",
     "text": [
      "C:\\Users\\Sid\\AppData\\Local\\Temp\\ipykernel_988\\342094648.py:1: UserWarning: `Model.evaluate_generator` is deprecated and will be removed in a future version. Please use `Model.evaluate`, which supports generators.\n",
      "  acc= model.evaluate_generator(test_data)[1]\n"
     ]
    },
    {
     "name": "stdout",
     "output_type": "stream",
     "text": [
      "accurary of model 0.7799999713897705\n"
     ]
    }
   ],
   "source": [
    "acc= model.evaluate_generator(test_data)[1]\n",
    "print(f\"accurary of model {acc}\")"
   ]
  },
  {
   "cell_type": "code",
   "execution_count": null,
   "id": "1073f06e",
   "metadata": {},
   "outputs": [],
   "source": []
  }
 ],
 "metadata": {
  "kernelspec": {
   "display_name": "Python 3 (ipykernel)",
   "language": "python",
   "name": "python3"
  },
  "language_info": {
   "codemirror_mode": {
    "name": "ipython",
    "version": 3
   },
   "file_extension": ".py",
   "mimetype": "text/x-python",
   "name": "python",
   "nbconvert_exporter": "python",
   "pygments_lexer": "ipython3",
   "version": "3.9.12"
  }
 },
 "nbformat": 4,
 "nbformat_minor": 5
}
